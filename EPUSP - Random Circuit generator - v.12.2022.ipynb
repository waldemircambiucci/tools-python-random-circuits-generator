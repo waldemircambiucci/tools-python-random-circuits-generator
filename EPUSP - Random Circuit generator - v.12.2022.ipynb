{
 "cells": [
  {
   "cell_type": "markdown",
   "id": "0adcbbc6",
   "metadata": {},
   "source": [
    "# EPUSP - Random Circuit generator - v.3.2024"
   ]
  },
  {
   "cell_type": "markdown",
   "id": "998c7144",
   "metadata": {},
   "source": [
    "Passo 1 - Gerando circuito aleatório, para execução em simulador sem ruídos."
   ]
  },
  {
   "cell_type": "code",
   "execution_count": 1,
   "id": "4f50883d",
   "metadata": {},
   "outputs": [
    {
     "data": {
      "text/html": [
       "<pre style=\"word-wrap: normal;white-space: pre;background: #fff0;line-height: 1.1;font-family: &quot;Courier New&quot;,Courier,monospace\">            ┌───┐               ┌─────┐     ┌─┐      \n",
       "q_0: ───────┤ I ├─────────■─────┤ Tdg ├─────┤M├──────\n",
       "            ├───┤         │ ┌───┴─────┴────┐└╥┘┌─┐   \n",
       "q_1: ───────┤ I ├─────────X─┤ Rx(0.017207) ├─╫─┤M├───\n",
       "     ┌──────┴───┴───────┐ │ ├─────────────┬┘ ║ └╥┘┌─┐\n",
       "q_2: ┤ U2(5.735,3.8116) ├─X─┤ Rx(0.21102) ├──╫──╫─┤M├\n",
       "     └──────────────────┘   └─────────────┘  ║  ║ └╥┘\n",
       "c: 3/════════════════════════════════════════╩══╩══╩═\n",
       "                                             0  1  2 </pre>"
      ],
      "text/plain": [
       "            ┌───┐               ┌─────┐     ┌─┐      \n",
       "q_0: ───────┤ I ├─────────■─────┤ Tdg ├─────┤M├──────\n",
       "            ├───┤         │ ┌───┴─────┴────┐└╥┘┌─┐   \n",
       "q_1: ───────┤ I ├─────────X─┤ Rx(0.017207) ├─╫─┤M├───\n",
       "     ┌──────┴───┴───────┐ │ ├─────────────┬┘ ║ └╥┘┌─┐\n",
       "q_2: ┤ U2(5.735,3.8116) ├─X─┤ Rx(0.21102) ├──╫──╫─┤M├\n",
       "     └──────────────────┘   └─────────────┘  ║  ║ └╥┘\n",
       "c: 3/════════════════════════════════════════╩══╩══╩═\n",
       "                                             0  1  2 "
      ]
     },
     "execution_count": 1,
     "metadata": {},
     "output_type": "execute_result"
    }
   ],
   "source": [
    "from qiskit import IBMQ, transpile, QuantumCircuit, Aer\n",
    "from qiskit.tools.visualization import plot_histogram\n",
    "from qiskit.circuit.random import random_circuit\n",
    "\n",
    "circ = random_circuit(3, 3, 3, measure=True, conditional=False, reset=False, seed=0)\n",
    "circ.draw()"
   ]
  },
  {
   "cell_type": "code",
   "execution_count": 2,
   "id": "6d7cd559",
   "metadata": {},
   "outputs": [
    {
     "data": {
      "text/html": [
       "<pre style=\"word-wrap: normal;white-space: pre;background: #fff0;line-height: 1.1;font-family: &quot;Courier New&quot;,Courier,monospace\">            ┌───┐               ┌─────┐     ┌─┐      \n",
       "q_0: ───────┤ I ├─────────■─────┤ Tdg ├─────┤M├──────\n",
       "            ├───┤         │ ┌───┴─────┴────┐└╥┘┌─┐   \n",
       "q_1: ───────┤ I ├─────────X─┤ Rx(0.017207) ├─╫─┤M├───\n",
       "     ┌──────┴───┴───────┐ │ ├─────────────┬┘ ║ └╥┘┌─┐\n",
       "q_2: ┤ U2(5.735,3.8116) ├─X─┤ Rx(0.21102) ├──╫──╫─┤M├\n",
       "     └──────────────────┘   └─────────────┘  ║  ║ └╥┘\n",
       "c: 3/════════════════════════════════════════╩══╩══╩═\n",
       "                                             0  1  2 </pre>"
      ],
      "text/plain": [
       "            ┌───┐               ┌─────┐     ┌─┐      \n",
       "q_0: ───────┤ I ├─────────■─────┤ Tdg ├─────┤M├──────\n",
       "            ├───┤         │ ┌───┴─────┴────┐└╥┘┌─┐   \n",
       "q_1: ───────┤ I ├─────────X─┤ Rx(0.017207) ├─╫─┤M├───\n",
       "     ┌──────┴───┴───────┐ │ ├─────────────┬┘ ║ └╥┘┌─┐\n",
       "q_2: ┤ U2(5.735,3.8116) ├─X─┤ Rx(0.21102) ├──╫──╫─┤M├\n",
       "     └──────────────────┘   └─────────────┘  ║  ║ └╥┘\n",
       "c: 3/════════════════════════════════════════╩══╩══╩═\n",
       "                                             0  1  2 "
      ]
     },
     "execution_count": 2,
     "metadata": {},
     "output_type": "execute_result"
    }
   ],
   "source": [
    "circ = random_circuit(3, 3, 3, measure=True, conditional=False, reset=False, seed=0)\n",
    "circ.draw()"
   ]
  },
  {
   "cell_type": "code",
   "execution_count": 3,
   "id": "1f1d6410",
   "metadata": {},
   "outputs": [],
   "source": [
    "# You can choose other backend also.\n",
    "ideal_backend = Aer.get_backend(\"qasm_simulator\")"
   ]
  },
  {
   "cell_type": "code",
   "execution_count": 4,
   "id": "3f8768d8",
   "metadata": {},
   "outputs": [
    {
     "data": {
      "text/html": [
       "<pre style=\"word-wrap: normal;white-space: pre;background: #fff0;line-height: 1.1;font-family: &quot;Courier New&quot;,Courier,monospace\">                                ┌─────┐     ┌─┐      \n",
       "q_0: ─────────────────────■─────┤ Tdg ├─────┤M├──────\n",
       "                          │ ┌───┴─────┴────┐└╥┘┌─┐   \n",
       "q_1: ─────────────────────X─┤ Rx(0.017207) ├─╫─┤M├───\n",
       "     ┌──────────────────┐ │ ├─────────────┬┘ ║ └╥┘┌─┐\n",
       "q_2: ┤ U2(5.735,3.8116) ├─X─┤ Rx(0.21102) ├──╫──╫─┤M├\n",
       "     └──────────────────┘   └─────────────┘  ║  ║ └╥┘\n",
       "c: 3/════════════════════════════════════════╩══╩══╩═\n",
       "                                             0  1  2 </pre>"
      ],
      "text/plain": [
       "                                ┌─────┐     ┌─┐      \n",
       "q_0: ─────────────────────■─────┤ Tdg ├─────┤M├──────\n",
       "                          │ ┌───┴─────┴────┐└╥┘┌─┐   \n",
       "q_1: ─────────────────────X─┤ Rx(0.017207) ├─╫─┤M├───\n",
       "     ┌──────────────────┐ │ ├─────────────┬┘ ║ └╥┘┌─┐\n",
       "q_2: ┤ U2(5.735,3.8116) ├─X─┤ Rx(0.21102) ├──╫──╫─┤M├\n",
       "     └──────────────────┘   └─────────────┘  ║  ║ └╥┘\n",
       "c: 3/════════════════════════════════════════╩══╩══╩═\n",
       "                                             0  1  2 "
      ]
     },
     "execution_count": 4,
     "metadata": {},
     "output_type": "execute_result"
    }
   ],
   "source": [
    "from qiskit import transpile\n",
    "\n",
    "# Transpile the ideal circuit to a circuit that can be directly executed by the backend\n",
    "transpiled_circuit = transpile(circ, ideal_backend)\n",
    "transpiled_circuit.draw()"
   ]
  },
  {
   "cell_type": "code",
   "execution_count": 5,
   "id": "8417c07f",
   "metadata": {},
   "outputs": [
    {
     "name": "stdout",
     "output_type": "stream",
     "text": [
      "Result(backend_name='qasm_simulator', backend_version='0.11.0', qobj_id='ff7860f1-044f-496e-8223-c7374eef9937', job_id='c7b42331-a4d3-46da-bda5-851489021e1c', success=True, results=[ExperimentResult(shots=1024, success=True, meas_level=2, data=ExperimentResultData(counts={'0x0': 441, '0x4': 583}), header=QobjExperimentHeader(clbit_labels=[['c', 0], ['c', 1], ['c', 2]], creg_sizes=[['c', 3]], global_phase=0.0, memory_slots=3, metadata={}, n_qubits=3, name='circuit-78', qreg_sizes=[['q', 3]], qubit_labels=[['q', 0], ['q', 1], ['q', 2]]), status=DONE, seed_simulator=1238459742, metadata={'batched_shots_optimization': False, 'method': 'statevector', 'active_input_qubits': [0, 1, 2], 'device': 'CPU', 'remapped_qubits': False, 'num_qubits': 3, 'num_clbits': 3, 'sample_measure_time': 0.0010399, 'input_qubit_map': [[0, 0], [1, 1], [2, 2]], 'measure_sampling': True, 'noise': 'ideal', 'parallel_shots': 1, 'parallel_state_update': 8, 'fusion': {'enabled': True, 'threshold': 14, 'max_fused_qubits': 5, 'applied': False}}, time_taken=0.0049794)], date=2022-10-03T10:05:22.474711, status=COMPLETED, header=QobjHeader(backend_name='qasm_simulator', backend_version='0.11.0'), metadata={'parallel_experiments': 1, 'omp_enabled': True, 'max_memory_mb': 16162, 'max_gpu_memory_mb': 0, 'num_processes_per_experiments': 1, 'time_taken_load_qobj': 0.0004075, 'mpi_rank': 0, 'num_mpi_processes': 1, 'time_taken_execute': 0.0052031, 'time_taken': 0.0056249}, time_taken=0.00638270378112793)\n"
     ]
    }
   ],
   "source": [
    "#backend = Aer.get_backend('aer_simulator')\n",
    "ideal_result = ideal_backend.run(transpiled_circuit).result()\n",
    "ideal_counts = ideal_result.get_counts() \n",
    "\n",
    "print(ideal_result)"
   ]
  },
  {
   "cell_type": "code",
   "execution_count": 6,
   "id": "4495eac5",
   "metadata": {},
   "outputs": [
    {
     "name": "stdout",
     "output_type": "stream",
     "text": [
      "{'000': 441, '100': 583}\n"
     ]
    }
   ],
   "source": [
    "print(ideal_counts)"
   ]
  },
  {
   "cell_type": "code",
   "execution_count": 7,
   "id": "dae302f8",
   "metadata": {},
   "outputs": [
    {
     "data": {
      "image/png": "[encoded data removed]",
      "text/plain": [
       "<Figure size 504x360 with 1 Axes>"
      ]
     },
     "execution_count": 7,
     "metadata": {},
     "output_type": "execute_result"
    }
   ],
   "source": [
    "from qiskit.tools.visualization import plot_histogram\n",
    "plot_histogram(ideal_counts)"
   ]
  },
  {
   "cell_type": "markdown",
   "id": "3f460339",
   "metadata": {},
   "source": [
    "# Fase 2 - Random 1 Circuit rodando em Fake provider com erros"
   ]
  },
  {
   "cell_type": "markdown",
   "id": "a313368f",
   "metadata": {},
   "source": [
    "Passo 2 - Gerando circuito aleatório, para execução em simulador fake com ruídos.\n",
    "\n",
    "Please note that the simulation is done using a noise model generated from system snapshots obtained in the past (sometimes a few years ago) and the results are not representative of the latest behaviours of the real quantum system which the fake backend is mimicking. If you want to run noisy simulations to compare with the real quantum system, please follow steps below to generate a simulator mimics a real quantum system with the latest calibration results.\n",
    "\n",
    "Ref.: https://qiskit.org/documentation/apidoc/providers_fake_provider.html\n",
    "Ref.: https://qiskit.org/documentation/stubs/qiskit.circuit.random.random_circuit.html\n"
   ]
  },
  {
   "cell_type": "code",
   "execution_count": 9,
   "id": "d21d6608",
   "metadata": {},
   "outputs": [],
   "source": [
    "from qiskit.providers.fake_provider import FakeManilaV2\n",
    "noise_backend = FakeManilaV2()"
   ]
  },
  {
   "cell_type": "code",
   "execution_count": 10,
   "id": "55cf741e",
   "metadata": {},
   "outputs": [
    {
     "data": {
      "text/html": [
       "<pre style=\"word-wrap: normal;white-space: pre;background: #fff0;line-height: 1.1;font-family: &quot;Courier New&quot;,Courier,monospace\">global phase: 2.4171\n",
       "                                                                         »\n",
       "ancilla_0 -> 0 ──────────────────────────────────────────────────────────»\n",
       "                                                                         »\n",
       "ancilla_1 -> 1 ──────────────────────────────────────────────────────────»\n",
       "                                                                         »\n",
       "      q_0 -> 2 ──────────────────────────────────────────────────────────»\n",
       "                                                                    ┌───┐»\n",
       "      q_1 -> 3 ─────────────────────────────────────────────────────┤ X ├»\n",
       "               ┌──────────────────────┐┌────┐┌─────────────────────┐└─┬─┘»\n",
       "      q_2 -> 4 ┤ Rz(2.24080866631494) ├┤ √X ├┤ Rz(7.3058087589925) ├──■──»\n",
       "               └──────────────────────┘└────┘└─────────────────────┘     »\n",
       "          c: 3/══════════════════════════════════════════════════════════»\n",
       "                                                                         »\n",
       "«                                                                           »\n",
       "«ancilla_0 -> 0 ────────────────────────────────────────────────────────────»\n",
       "«                                                                           »\n",
       "«ancilla_1 -> 1 ────────────────────────────────────────────────────────────»\n",
       "«                                                            ┌───┐          »\n",
       "«      q_0 -> 2 ──────────────────────────────────────■──────┤ X ├──■───────»\n",
       "«                                                   ┌─┴─┐    └─┬─┘┌─┴─┐     »\n",
       "«      q_1 -> 3 ──────────────────────────────■─────┤ X ├──────■──┤ X ├──■──»\n",
       "«               ┌─────────┐┌────┐┌─────────┐┌─┴─┐┌──┴───┴───┐     └───┘┌─┴─┐»\n",
       "«      q_2 -> 4 ┤ Rz(π/2) ├┤ √X ├┤ Rz(π/2) ├┤ X ├┤ Rz(-π/4) ├──────────┤ X ├»\n",
       "«               └─────────┘└────┘└─────────┘└───┘└──────────┘          └───┘»\n",
       "«          c: 3/════════════════════════════════════════════════════════════»\n",
       "«                                                                           »\n",
       "«                                                                              »\n",
       "«ancilla_0 -> 0 ───────────────────────────────────────────────────────────────»\n",
       "«                                                                              »\n",
       "«ancilla_1 -> 1 ───────────────────────────────────────────────────────────────»\n",
       "«                          ┌───┐                                               »\n",
       "«      q_0 -> 2 ─────■─────┤ X ├──■────────────────────────────────────■───────»\n",
       "«                  ┌─┴─┐   └─┬─┘┌─┴─┐     ┌─────────┐ ┌───┐     ┌───┐┌─┴─┐┌───┐»\n",
       "«      q_1 -> 3 ───┤ X ├─────■──┤ X ├──■──┤ Rz(π/4) ├─┤ X ├──■──┤ X ├┤ X ├┤ X ├»\n",
       "«               ┌──┴───┴──┐     └───┘┌─┴─┐├─────────┴┐└─┬─┘┌─┴─┐└─┬─┘└───┘└─┬─┘»\n",
       "«      q_2 -> 4 ┤ Rz(π/4) ├──────────┤ X ├┤ Rz(-π/4) ├──■──┤ X ├──■─────────■──»\n",
       "«               └─────────┘          └───┘└──────────┘     └───┘               »\n",
       "«          c: 3/═══════════════════════════════════════════════════════════════»\n",
       "«                                                                              »\n",
       "«                                                                        »\n",
       "«ancilla_0 -> 0 ─────────────────────────────────────────────────────────»\n",
       "«                                                                        »\n",
       "«ancilla_1 -> 1 ─────────────────────────────────────────────────────────»\n",
       "«                                     ┌─────────┐            ┌──────────┐»\n",
       "«      q_0 -> 2 ───────────────■──────┤ Rz(π/4) ├──────■─────┤ Rz(-π/4) ├»\n",
       "«                    ┌───┐   ┌─┴─┐    ├─────────┴┐   ┌─┴─┐   └──┬───┬───┘»\n",
       "«      q_1 -> 3 ──■──┤ X ├───┤ X ├────┤ Rz(-π/4) ├───┤ X ├──────┤ X ├────»\n",
       "«               ┌─┴─┐└─┬─┘┌──┴───┴───┐└──┬────┬──┘┌──┴───┴──┐   └─┬─┘    »\n",
       "«      q_2 -> 4 ┤ X ├──■──┤ Rz(3π/4) ├───┤ √X ├───┤ Rz(π/2) ├─────■──────»\n",
       "«               └───┘     └──────────┘   └────┘   └─────────┘            »\n",
       "«          c: 3/═════════════════════════════════════════════════════════»\n",
       "«                                                                        »\n",
       "«                                                                           ░ »\n",
       "«ancilla_0 -> 0 ────────────────────────────────────────────────────────────░─»\n",
       "«                                                                           ░ »\n",
       "«ancilla_1 -> 1 ────────────────────────────────────────────────────────────░─»\n",
       "«                                                                           ░ »\n",
       "«      q_0 -> 2 ────────────────────────────────────────────────────────────░─»\n",
       "«               ┌─────────┐┌────┐┌──────────────────────┐┌────┐┌──────────┐ ░ »\n",
       "«      q_1 -> 3 ┤ Rz(π/2) ├┤ √X ├┤ Rz(3.15879915762258) ├┤ √X ├┤ Rz(5π/2) ├─░─»\n",
       "«               ├─────────┤├────┤├──────────────────────┤├────┤├──────────┤ ░ »\n",
       "«      q_2 -> 4 ┤ Rz(π/2) ├┤ √X ├┤ Rz(3.35261704688226) ├┤ √X ├┤ Rz(5π/2) ├─░─»\n",
       "«               └─────────┘└────┘└──────────────────────┘└────┘└──────────┘ ░ »\n",
       "«          c: 3/══════════════════════════════════════════════════════════════»\n",
       "«                                                                             »\n",
       "«                        \n",
       "«ancilla_0 -> 0 ─────────\n",
       "«                        \n",
       "«ancilla_1 -> 1 ─────────\n",
       "«               ┌─┐      \n",
       "«      q_0 -> 2 ┤M├──────\n",
       "«               └╥┘┌─┐   \n",
       "«      q_1 -> 3 ─╫─┤M├───\n",
       "«                ║ └╥┘┌─┐\n",
       "«      q_2 -> 4 ─╫──╫─┤M├\n",
       "«                ║  ║ └╥┘\n",
       "«          c: 3/═╩══╩══╩═\n",
       "«                0  1  2 </pre>"
      ],
      "text/plain": [
       "global phase: 2.4171\n",
       "                                                                         »\n",
       "ancilla_0 -> 0 ──────────────────────────────────────────────────────────»\n",
       "                                                                         »\n",
       "ancilla_1 -> 1 ──────────────────────────────────────────────────────────»\n",
       "                                                                         »\n",
       "      q_0 -> 2 ──────────────────────────────────────────────────────────»\n",
       "                                                                    ┌───┐»\n",
       "      q_1 -> 3 ─────────────────────────────────────────────────────┤ X ├»\n",
       "               ┌──────────────────────┐┌────┐┌─────────────────────┐└─┬─┘»\n",
       "      q_2 -> 4 ┤ Rz(2.24080866631494) ├┤ √X ├┤ Rz(7.3058087589925) ├──■──»\n",
       "               └──────────────────────┘└────┘└─────────────────────┘     »\n",
       "          c: 3/══════════════════════════════════════════════════════════»\n",
       "                                                                         »\n",
       "«                                                                           »\n",
       "«ancilla_0 -> 0 ────────────────────────────────────────────────────────────»\n",
       "«                                                                           »\n",
       "«ancilla_1 -> 1 ────────────────────────────────────────────────────────────»\n",
       "«                                                            ┌───┐          »\n",
       "«      q_0 -> 2 ──────────────────────────────────────■──────┤ X ├──■───────»\n",
       "«                                                   ┌─┴─┐    └─┬─┘┌─┴─┐     »\n",
       "«      q_1 -> 3 ──────────────────────────────■─────┤ X ├──────■──┤ X ├──■──»\n",
       "«               ┌─────────┐┌────┐┌─────────┐┌─┴─┐┌──┴───┴───┐     └───┘┌─┴─┐»\n",
       "«      q_2 -> 4 ┤ Rz(π/2) ├┤ √X ├┤ Rz(π/2) ├┤ X ├┤ Rz(-π/4) ├──────────┤ X ├»\n",
       "«               └─────────┘└────┘└─────────┘└───┘└──────────┘          └───┘»\n",
       "«          c: 3/════════════════════════════════════════════════════════════»\n",
       "«                                                                           »\n",
       "«                                                                              »\n",
       "«ancilla_0 -> 0 ───────────────────────────────────────────────────────────────»\n",
       "«                                                                              »\n",
       "«ancilla_1 -> 1 ───────────────────────────────────────────────────────────────»\n",
       "«                          ┌───┐                                               »\n",
       "«      q_0 -> 2 ─────■─────┤ X ├──■────────────────────────────────────■───────»\n",
       "«                  ┌─┴─┐   └─┬─┘┌─┴─┐     ┌─────────┐ ┌───┐     ┌───┐┌─┴─┐┌───┐»\n",
       "«      q_1 -> 3 ───┤ X ├─────■──┤ X ├──■──┤ Rz(π/4) ├─┤ X ├──■──┤ X ├┤ X ├┤ X ├»\n",
       "«               ┌──┴───┴──┐     └───┘┌─┴─┐├─────────┴┐└─┬─┘┌─┴─┐└─┬─┘└───┘└─┬─┘»\n",
       "«      q_2 -> 4 ┤ Rz(π/4) ├──────────┤ X ├┤ Rz(-π/4) ├──■──┤ X ├──■─────────■──»\n",
       "«               └─────────┘          └───┘└──────────┘     └───┘               »\n",
       "«          c: 3/═══════════════════════════════════════════════════════════════»\n",
       "«                                                                              »\n",
       "«                                                                        »\n",
       "«ancilla_0 -> 0 ─────────────────────────────────────────────────────────»\n",
       "«                                                                        »\n",
       "«ancilla_1 -> 1 ─────────────────────────────────────────────────────────»\n",
       "«                                     ┌─────────┐            ┌──────────┐»\n",
       "«      q_0 -> 2 ───────────────■──────┤ Rz(π/4) ├──────■─────┤ Rz(-π/4) ├»\n",
       "«                    ┌───┐   ┌─┴─┐    ├─────────┴┐   ┌─┴─┐   └──┬───┬───┘»\n",
       "«      q_1 -> 3 ──■──┤ X ├───┤ X ├────┤ Rz(-π/4) ├───┤ X ├──────┤ X ├────»\n",
       "«               ┌─┴─┐└─┬─┘┌──┴───┴───┐└──┬────┬──┘┌──┴───┴──┐   └─┬─┘    »\n",
       "«      q_2 -> 4 ┤ X ├──■──┤ Rz(3π/4) ├───┤ √X ├───┤ Rz(π/2) ├─────■──────»\n",
       "«               └───┘     └──────────┘   └────┘   └─────────┘            »\n",
       "«          c: 3/═════════════════════════════════════════════════════════»\n",
       "«                                                                        »\n",
       "«                                                                           ░ »\n",
       "«ancilla_0 -> 0 ────────────────────────────────────────────────────────────░─»\n",
       "«                                                                           ░ »\n",
       "«ancilla_1 -> 1 ────────────────────────────────────────────────────────────░─»\n",
       "«                                                                           ░ »\n",
       "«      q_0 -> 2 ────────────────────────────────────────────────────────────░─»\n",
       "«               ┌─────────┐┌────┐┌──────────────────────┐┌────┐┌──────────┐ ░ »\n",
       "«      q_1 -> 3 ┤ Rz(π/2) ├┤ √X ├┤ Rz(3.15879915762258) ├┤ √X ├┤ Rz(5π/2) ├─░─»\n",
       "«               ├─────────┤├────┤├──────────────────────┤├────┤├──────────┤ ░ »\n",
       "«      q_2 -> 4 ┤ Rz(π/2) ├┤ √X ├┤ Rz(3.35261704688226) ├┤ √X ├┤ Rz(5π/2) ├─░─»\n",
       "«               └─────────┘└────┘└──────────────────────┘└────┘└──────────┘ ░ »\n",
       "«          c: 3/══════════════════════════════════════════════════════════════»\n",
       "«                                                                             »\n",
       "«                        \n",
       "«ancilla_0 -> 0 ─────────\n",
       "«                        \n",
       "«ancilla_1 -> 1 ─────────\n",
       "«               ┌─┐      \n",
       "«      q_0 -> 2 ┤M├──────\n",
       "«               └╥┘┌─┐   \n",
       "«      q_1 -> 3 ─╫─┤M├───\n",
       "«                ║ └╥┘┌─┐\n",
       "«      q_2 -> 4 ─╫──╫─┤M├\n",
       "«                ║  ║ └╥┘\n",
       "«          c: 3/═╩══╩══╩═\n",
       "«                0  1  2 "
      ]
     },
     "execution_count": 10,
     "metadata": {},
     "output_type": "execute_result"
    }
   ],
   "source": [
    "from qiskit import transpile\n",
    "\n",
    "# Transpile the ideal circuit to a circuit that can be directly executed by the backend\n",
    "transpiled_circuit = transpile(circ, noise_backend)\n",
    "transpiled_circuit.draw()"
   ]
  },
  {
   "cell_type": "code",
   "execution_count": 11,
   "id": "2c18cb43",
   "metadata": {},
   "outputs": [
    {
     "name": "stdout",
     "output_type": "stream",
     "text": [
      "Result(backend_name='aer_simulator', backend_version='0.11.0', qobj_id='3d627096-7ceb-41c0-86a1-e1a23411cd32', job_id='67184aa4-98f6-4643-9fc9-6f958e8eec00', success=True, results=[ExperimentResult(shots=1024, success=True, meas_level=2, data=ExperimentResultData(counts={'0x4': 480, '0x0': 424, '0x2': 34, '0x6': 59, '0x1': 11, '0x5': 9, '0x3': 5, '0x7': 2}), header=QobjExperimentHeader(clbit_labels=[['c', 0], ['c', 1], ['c', 2]], creg_sizes=[['c', 3]], global_phase=2.4171142224613718, memory_slots=3, metadata={}, n_qubits=5, name='circuit-79', qreg_sizes=[['q', 5]], qubit_labels=[['q', 0], ['q', 1], ['q', 2], ['q', 3], ['q', 4]]), status=DONE, seed_simulator=2736635467, metadata={'batched_shots_optimization': False, 'method': 'density_matrix', 'active_input_qubits': [2, 3, 4], 'device': 'CPU', 'remapped_qubits': True, 'num_qubits': 3, 'num_clbits': 3, 'sample_measure_time': 0.0005353, 'input_qubit_map': [[2, 0], [3, 1], [4, 2]], 'measure_sampling': True, 'noise': 'superop', 'parallel_shots': 1, 'parallel_state_update': 8, 'fusion': {'enabled': True, 'threshold': 7, 'max_fused_qubits': 2, 'applied': False}}, time_taken=0.0118142)], date=2022-10-03T09:23:48.979004, status=COMPLETED, header=QobjHeader(backend_name='aer_simulator', backend_version='0.11.0'), metadata={'parallel_experiments': 1, 'omp_enabled': True, 'max_memory_mb': 16162, 'max_gpu_memory_mb': 0, 'num_processes_per_experiments': 1, 'time_taken_load_qobj': 0.0213695, 'mpi_rank': 0, 'num_mpi_processes': 1, 'time_taken_execute': 0.0235881, 'time_taken': 0.0449775}, time_taken=0.04721999168395996)\n"
     ]
    }
   ],
   "source": [
    "# Run the transpiled circuit using the simulated fake backend\n",
    "noise_result = noise_backend.run(transpiled_circuit).result()\n",
    "noise_counts = noise_result.get_counts() \n",
    "\n",
    "print(noise_result)"
   ]
  },
  {
   "cell_type": "code",
   "execution_count": 12,
   "id": "9fd9efb0",
   "metadata": {},
   "outputs": [
    {
     "name": "stdout",
     "output_type": "stream",
     "text": [
      "{'100': 480, '000': 424, '010': 34, '110': 59, '001': 11, '101': 9, '011': 5, '111': 2}\n"
     ]
    }
   ],
   "source": [
    "print(noise_counts)"
   ]
  },
  {
   "cell_type": "code",
   "execution_count": 13,
   "id": "48c5d0a3",
   "metadata": {},
   "outputs": [
    {
     "data": {
      "image/png": "[encoded data removed]",
      "text/plain": [
       "<Figure size 504x360 with 1 Axes>"
      ]
     },
     "execution_count": 13,
     "metadata": {},
     "output_type": "execute_result"
    }
   ],
   "source": [
    "from qiskit.tools.visualization import plot_histogram\n",
    "plot_histogram(noise_counts)"
   ]
  },
  {
   "cell_type": "code",
   "execution_count": 14,
   "id": "3e5ac66b",
   "metadata": {},
   "outputs": [
    {
     "data": {
      "text/html": [
       "<h3>Version Information</h3><table><tr><th>Qiskit Software</th><th>Version</th></tr><tr><td><code>qiskit-terra</code></td><td>0.21.2</td></tr><tr><td><code>qiskit-aer</code></td><td>0.11.0</td></tr><tr><td><code>qiskit-ibmq-provider</code></td><td>0.19.2</td></tr><tr><td><code>qiskit</code></td><td>0.38.0</td></tr><tr><th>System information</th></tr><tr><td>Python version</td><td>3.9.6</td></tr><tr><td>Python compiler</td><td>MSC v.1929 64 bit (AMD64)</td></tr><tr><td>Python build</td><td>tags/v3.9.6:db3ff76, Jun 28 2021 15:26:21</td></tr><tr><td>OS</td><td>Windows</td></tr><tr><td>CPUs</td><td>4</td></tr><tr><td>Memory (Gb)</td><td>15.78375244140625</td></tr><tr><td colspan='2'>Mon Oct 03 09:23:56 2022 Hora oficial do Brasil</td></tr></table>"
      ],
      "text/plain": [
       "<IPython.core.display.HTML object>"
      ]
     },
     "metadata": {},
     "output_type": "display_data"
    },
    {
     "data": {
      "text/html": [
       "<div style='width: 100%; background-color:#d5d9e0;padding-left: 10px; padding-bottom: 10px; padding-right: 10px; padding-top: 5px'><h3>This code is a part of Qiskit</h3><p>&copy; Copyright IBM 2017, 2022.</p><p>This code is licensed under the Apache License, Version 2.0. You may<br>obtain a copy of this license in the LICENSE.txt file in the root directory<br> of this source tree or at http://www.apache.org/licenses/LICENSE-2.0.<p>Any modifications or derivative works of this code must retain this<br>copyright notice, and modified files need to carry a notice indicating<br>that they have been altered from the originals.</p></div>"
      ],
      "text/plain": [
       "<IPython.core.display.HTML object>"
      ]
     },
     "metadata": {},
     "output_type": "display_data"
    }
   ],
   "source": [
    "import qiskit.tools.jupyter\n",
    "%qiskit_version_table\n",
    "%qiskit_copyright"
   ]
  },
  {
   "cell_type": "code",
   "execution_count": null,
   "id": "766667b6",
   "metadata": {},
   "outputs": [],
   "source": []
  }
 ],
 "metadata": {
  "kernelspec": {
   "display_name": "Python 3 (ipykernel)",
   "language": "python",
   "name": "python3"
  },
  "language_info": {
   "codemirror_mode": {
    "name": "ipython",
    "version": 3
   },
   "file_extension": ".py",
   "mimetype": "text/x-python",
   "name": "python",
   "nbconvert_exporter": "python",
   "pygments_lexer": "ipython3",
   "version": "3.9.6"
  }
 },
 "nbformat": 4,
 "nbformat_minor": 5
}
